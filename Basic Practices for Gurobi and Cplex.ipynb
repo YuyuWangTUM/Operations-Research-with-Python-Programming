{
 "cells": [
  {
   "cell_type": "markdown",
   "id": "5b22f793",
   "metadata": {},
   "source": [
    "# Basic Practices for Gurobi and Cplex"
   ]
  },
  {
   "cell_type": "markdown",
   "id": "a2bf9948",
   "metadata": {},
   "source": [
    "Reference:  \n",
    "Winston, W. L., & Goldberg, J. B. (2004). Operations research: applications and algorithms (Vol. 3).   \n",
    "Belmont: Thomson Brooks/Cole.  \n",
    "(Section 3.6, page 80 - 81)  \n",
    "Example 10 Project Selection  "
   ]
  },
  {
   "cell_type": "markdown",
   "id": "88dec8a0",
   "metadata": {},
   "source": [
    "<u> 1. Solve this problem with gurobi (Version 1) </u>"
   ]
  },
  {
   "cell_type": "code",
   "execution_count": 1,
   "id": "cf9c539d",
   "metadata": {},
   "outputs": [
    {
     "name": "stdout",
     "output_type": "stream",
     "text": [
      "Set parameter Username\n",
      "Academic license - for non-commercial use only - expires 2023-06-19\n",
      "Gurobi Optimizer version 9.5.1 build v9.5.1rc2 (win64)\n",
      "Thread count: 4 physical cores, 8 logical processors, using up to 8 threads\n",
      "Optimize a model with 7 rows, 5 columns and 15 nonzeros\n",
      "Model fingerprint: 0xe4029bee\n",
      "Coefficient statistics:\n",
      "  Matrix range     [1e+00, 5e+01]\n",
      "  Objective range  [1e+01, 4e+01]\n",
      "  Bounds range     [0e+00, 0e+00]\n",
      "  RHS range        [1e+00, 4e+01]\n",
      "Presolve removed 5 rows and 0 columns\n",
      "Presolve time: 0.00s\n",
      "Presolved: 2 rows, 5 columns, 10 nonzeros\n",
      "\n",
      "Iteration    Objective       Primal Inf.    Dual Inf.      Time\n",
      "       0    1.2800000e+02   9.500000e+00   0.000000e+00      0s\n",
      "       2    5.7449017e+01   0.000000e+00   0.000000e+00      0s\n",
      "\n",
      "Solved in 2 iterations and 0.01 seconds (0.00 work units)\n",
      "Optimal objective  5.744901720e+01\n",
      "Objective: 57.449017199017206\n",
      "x1:  1.0\n",
      "x2:  0.20085995085995084\n",
      "x3:  1.0\n",
      "x4:  1.0\n",
      "x5:  0.2880835380835381\n"
     ]
    }
   ],
   "source": [
    "import numpy as np\n",
    "import gurobipy as gp\n",
    "from gurobipy import GRB\n",
    "\n",
    "m = gp.Model('Project Selection V1')\n",
    "\n",
    "x1 = m.addVar(lb=0, name='x1')\n",
    "x2 = m.addVar(lb=0, name='x2')\n",
    "x3 = m.addVar(lb=0, name='x3')\n",
    "x4 = m.addVar(lb=0, name='x4')\n",
    "x5 = m.addVar(lb=0, name='x5')\n",
    "\n",
    "m.addConstr(11*x1 + 53*x2 + 5*x3 + 5*x4 + 29*x5 <= 40)\n",
    "m.addConstr(3*x1 + 6*x2 + 5*x3 + x4 + 34*x5 <= 20)\n",
    "m.addConstr(x1 <= 1)\n",
    "m.addConstr(x2 <= 1)\n",
    "m.addConstr(x3 <= 1)\n",
    "m.addConstr(x4 <= 1)\n",
    "m.addConstr(x5 <= 1)\n",
    "\n",
    "m.setObjective(13*x1 + 16*x2 + 16*x3 + 14*x4 + 39*x5, GRB.MAXIMIZE)\n",
    "\n",
    "m.optimize()\n",
    "\n",
    "print('Objective:', str(m.objVal))\n",
    "\n",
    "print('x1: ', m.getVarByName('x1').x)\n",
    "print('x2: ', m.getVarByName('x2').x)\n",
    "print('x3: ', m.getVarByName('x3').x)\n",
    "print('x4: ', m.getVarByName('x4').x)\n",
    "print('x5: ', m.getVarByName('x5').x)\n",
    "m.dispose()"
   ]
  },
  {
   "cell_type": "markdown",
   "id": "20f51504",
   "metadata": {},
   "source": [
    "<u> 2. Solve this problem with gurobi (Version 2) </u>"
   ]
  },
  {
   "cell_type": "code",
   "execution_count": 2,
   "id": "efb71633",
   "metadata": {},
   "outputs": [
    {
     "name": "stdout",
     "output_type": "stream",
     "text": [
      "Gurobi Optimizer version 9.5.1 build v9.5.1rc2 (win64)\n",
      "Thread count: 4 physical cores, 8 logical processors, using up to 8 threads\n",
      "Optimize a model with 2 rows, 5 columns and 10 nonzeros\n",
      "Model fingerprint: 0xa624fb66\n",
      "Coefficient statistics:\n",
      "  Matrix range     [1e+00, 5e+01]\n",
      "  Objective range  [1e+01, 4e+01]\n",
      "  Bounds range     [1e+00, 1e+00]\n",
      "  RHS range        [2e+01, 4e+01]\n",
      "Presolve time: 0.01s\n",
      "Presolved: 2 rows, 5 columns, 10 nonzeros\n",
      "\n",
      "Iteration    Objective       Primal Inf.    Dual Inf.      Time\n",
      "       0    1.2800000e+02   9.500000e+00   0.000000e+00      0s\n",
      "       3    5.7449017e+01   0.000000e+00   0.000000e+00      0s\n",
      "\n",
      "Solved in 3 iterations and 0.01 seconds (0.00 work units)\n",
      "Optimal objective  5.744901720e+01\n",
      "Objective:  57.449017199017206\n",
      "x1 :  1.0\n",
      "x2 :  0.20085995085995087\n",
      "x3 :  1.0\n",
      "x4 :  1.0\n",
      "x5 :  0.2880835380835381\n"
     ]
    }
   ],
   "source": [
    "import numpy as np\n",
    "import gurobipy as gp\n",
    "from gurobipy import GRB\n",
    "\n",
    "t0_co = [11, 53, 5, 5, 29]\n",
    "t1_co = [3, 6, 5, 1, 34]\n",
    "npv = [13, 16, 16, 14, 39]\n",
    "\n",
    "m = gp.Model('Project Selection V2')\n",
    "\n",
    "x = {}\n",
    "for i in range(5):\n",
    "    x[i] = m.addVar(obj=npv[i], lb=0, ub=1, name='x'+str(i+1))\n",
    "    \n",
    "m.addConstr(sum(t0_co[i]*x[i] for i in range(5)) <= 40)\n",
    "m.addConstr(sum(t1_co[i]*x[i] for i in range(5)) <= 20)\n",
    "\n",
    "m.ModelSense = GRB.MAXIMIZE\n",
    "\n",
    "m.optimize()\n",
    "\n",
    "print('Objective: ', m.objVal)\n",
    "    \n",
    "for v in m.getVars():\n",
    "    print(v.varName, ': ', v.x)\n",
    "    \n",
    "m.dispose()"
   ]
  },
  {
   "cell_type": "markdown",
   "id": "8eed8110",
   "metadata": {},
   "source": [
    "<u> 3. Solve this problem with cplex (Version 3) </u>"
   ]
  },
  {
   "cell_type": "code",
   "execution_count": 3,
   "id": "c8aff4e2",
   "metadata": {},
   "outputs": [
    {
     "name": "stdout",
     "output_type": "stream",
     "text": [
      "Version identifier: 22.1.0.0 | 2022-03-25 | 54982fbec\n",
      "CPXPARAM_Read_DataCheck                          1\n",
      "Tried aggregator 1 time.\n",
      "No LP presolve or aggregator reductions.\n",
      "Presolve time = 0.00 sec. (0.00 ticks)\n",
      "\n",
      "Iteration log . . .\n",
      "Iteration:     1   Dual objective     =            70.181818\n",
      "Objective:  57.4490171990172\n",
      "x1 :  1.0\n",
      "x2 :  0.20085995085995084\n",
      "x3 :  1.0\n",
      "x4 :  1.0\n",
      "x5 :  0.2880835380835381\n"
     ]
    }
   ],
   "source": [
    "import cplex\n",
    "\n",
    "obj_val = [13, 16, 16, 14, 39]\n",
    "rhs_val = [40, 20]\n",
    "lb_val = [0, 0, 0, 0, 0]\n",
    "ub_val = [1, 1, 1, 1, 1]\n",
    "sense_val = ['L', 'L']\n",
    "var_names = ['x1', 'x2', 'x3', 'x4', 'x5']\n",
    "t0_co = [11, 53, 5, 5, 29]\n",
    "t1_co = [3, 6, 5, 1, 34]\n",
    "constr_expr = [[var_names, t0_co], [var_names, t1_co]]\n",
    "\n",
    "cpx = cplex.Cplex()\n",
    "cpx.objective.set_sense(cpx.objective.sense.maximize)\n",
    "\n",
    "cpx.variables.add(obj=obj_val, lb=lb_val, ub=ub_val, names=var_names)\n",
    "\n",
    "cpx.linear_constraints.add(lin_expr=constr_expr, senses=sense_val, rhs=rhs_val)\n",
    "\n",
    "cpx.solve()\n",
    "\n",
    "print('Objective: ', cpx.solution.get_objective_value())\n",
    "\n",
    "var_opt = cpx.solution.get_values()\n",
    "\n",
    "for i in range(len(var_names)):\n",
    "    print(var_names[i], ': ', var_opt[i])  "
   ]
  },
  {
   "cell_type": "code",
   "execution_count": null,
   "id": "46920059",
   "metadata": {},
   "outputs": [],
   "source": []
  },
  {
   "cell_type": "code",
   "execution_count": null,
   "id": "9bf0a9f6",
   "metadata": {},
   "outputs": [],
   "source": []
  }
 ],
 "metadata": {
  "kernelspec": {
   "display_name": "Python 3",
   "language": "python",
   "name": "python3"
  },
  "language_info": {
   "codemirror_mode": {
    "name": "ipython",
    "version": 3
   },
   "file_extension": ".py",
   "mimetype": "text/x-python",
   "name": "python",
   "nbconvert_exporter": "python",
   "pygments_lexer": "ipython3",
   "version": "3.8.8"
  }
 },
 "nbformat": 4,
 "nbformat_minor": 5
}
